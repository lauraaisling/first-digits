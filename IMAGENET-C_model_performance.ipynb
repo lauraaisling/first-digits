{
 "cells": [
  {
   "cell_type": "markdown",
   "id": "d81e0322",
   "metadata": {},
   "source": [
    "IMAGENET-C_model_performance.ipynb"
   ]
  },
  {
   "cell_type": "markdown",
   "id": "b7bf0c66",
   "metadata": {},
   "source": [
    "Data directories:"
   ]
  },
  {
   "cell_type": "code",
   "execution_count": null,
   "id": "1dc304d2",
   "metadata": {},
   "outputs": [],
   "source": [
    "######################### Insert_here"
   ]
  },
  {
   "cell_type": "code",
   "execution_count": 1,
   "id": "8613b8f0",
   "metadata": {},
   "outputs": [],
   "source": [
    "base_dir = base_dir_path\n",
    "IMAGENET_C_data = IMAGENET_C_data_path\n",
    "Subcategory_IMAGENET_C_files = Subcategory_IMAGENET_C_files_path"
   ]
  },
  {
   "cell_type": "code",
   "execution_count": 2,
   "id": "416bcf12",
   "metadata": {},
   "outputs": [],
   "source": [
    "real_data = real_data"
   ]
  },
  {
   "cell_type": "code",
   "execution_count": 3,
   "id": "51b7b377",
   "metadata": {},
   "outputs": [],
   "source": [
    "import matplotlib.pyplot as plt\n",
    "from PIL import Image\n",
    "import numpy as np\n",
    "import math\n",
    "import os\n",
    "from scipy import stats \n",
    "from scipy import fftpack\n",
    "import cv2\n",
    "import glob\n",
    "import pickle\n",
    "import seaborn as sns\n",
    "# from math import nan, isnan\n",
    "import copy"
   ]
  },
  {
   "cell_type": "code",
   "execution_count": 4,
   "id": "5c9a3526",
   "metadata": {},
   "outputs": [
    {
     "name": "stderr",
     "output_type": "stream",
     "text": [
      "C:\\Users\\lauraa.omahony\\Anaconda3\\envs\\First_digit_experiments\\lib\\site-packages\\tqdm\\auto.py:22: TqdmWarning: IProgress not found. Please update jupyter and ipywidgets. See https://ipywidgets.readthedocs.io/en/stable/user_install.html\n",
      "  from .autonotebook import tqdm as notebook_tqdm\n"
     ]
    }
   ],
   "source": [
    "from torchvision import models, transforms, datasets\n",
    "import torch"
   ]
  },
  {
   "cell_type": "code",
   "execution_count": 104,
   "id": "30dd36ae",
   "metadata": {},
   "outputs": [],
   "source": [
    "# change\n",
    "category = \"weather\" ################# CHANGE FOR DATASET ####################\n",
    "subcategory = \"fog\" ################# CHANGE FOR DATASET ####################\n",
    "# severity = \"1\" ################# CHANGE FOR DATASET ####################"
   ]
  },
  {
   "cell_type": "code",
   "execution_count": 105,
   "id": "0129f680",
   "metadata": {},
   "outputs": [],
   "source": [
    "vgg16_model= models.vgg16(pretrained=True)\n",
    "model = models.alexnet(pretrained=True)"
   ]
  },
  {
   "cell_type": "code",
   "execution_count": 106,
   "id": "7fbe8989",
   "metadata": {},
   "outputs": [],
   "source": [
    "data_transforms = transforms.Compose([transforms.Resize(256), \n",
    "                                    transforms.CenterCrop(224), \n",
    "                                    transforms.ToTensor(), \n",
    "                                    transforms.Normalize(mean=[0.485, 0.456, 0.406], std=[0.229, 0.224, 0.225])])"
   ]
  },
  {
   "cell_type": "code",
   "execution_count": 107,
   "id": "62afcb5c",
   "metadata": {},
   "outputs": [],
   "source": [
    "data_subcategory = f'/{category}/{subcategory}/'"
   ]
  },
  {
   "cell_type": "markdown",
   "id": "868d457c",
   "metadata": {},
   "source": [
    "### severity 1"
   ]
  },
  {
   "cell_type": "code",
   "execution_count": 108,
   "id": "ad326832",
   "metadata": {},
   "outputs": [],
   "source": [
    "severity = \"1\" ################# CHANGE FOR DATASET ####################"
   ]
  },
  {
   "cell_type": "code",
   "execution_count": 109,
   "id": "e179a9ef",
   "metadata": {
    "scrolled": true
   },
   "outputs": [],
   "source": [
    "image_datasets = datasets.ImageFolder(IMAGENET_C_data+data_subcategory+severity, \n",
    "                                      data_transforms)\n",
    "dataloaders = torch.utils.data.DataLoader(image_datasets, batch_size=50,\n",
    "                                             shuffle=True, num_workers=4)\n",
    "              \n",
    "dataset_sizes = len(image_datasets)\n",
    "class_names = image_datasets.classes\n",
    "device = torch.device(\"cuda:0\" if torch.cuda.is_available() else \"cpu\")\n",
    "\n",
    "n=1000\n",
    "#dataset_subset = torch.utils.data.Subset(image_datasets, np.random.choice(len(image_datasets), n, replace=False))\n",
    "sampler = torch.utils.data.RandomSampler(image_datasets, replacement=True, num_samples=n)\n",
    "dataset_subset = torch.utils.data.DataLoader(image_datasets, sampler=sampler, batch_size=50,\n",
    "                                             num_workers=4)"
   ]
  },
  {
   "cell_type": "code",
   "execution_count": 110,
   "id": "b3bf536e",
   "metadata": {
    "scrolled": true
   },
   "outputs": [],
   "source": [
    "model.eval()\n",
    "running_corrects = 0\n",
    "for inputs, labels in dataset_subset: # dataloaders:\n",
    "    inputs = inputs.to(device)\n",
    "    labels = labels.to(device)\n",
    "    outputs = model(inputs)\n",
    "    _, preds = torch.max(outputs, 1)\n",
    "    running_corrects += torch.sum(preds == labels.data)\n",
    "    # if n % 100==0: print(running_corrects)\n",
    "# epoch_acc = running_corrects.double() / dataset_sizes"
   ]
  },
  {
   "cell_type": "code",
   "execution_count": 111,
   "id": "a773995c",
   "metadata": {},
   "outputs": [
    {
     "data": {
      "text/plain": [
       "tensor(303)"
      ]
     },
     "execution_count": 111,
     "metadata": {},
     "output_type": "execute_result"
    }
   ],
   "source": [
    "running_corrects"
   ]
  },
  {
   "cell_type": "code",
   "execution_count": 112,
   "id": "7b7277ae",
   "metadata": {},
   "outputs": [],
   "source": [
    "epoch_acc = running_corrects.double() / n"
   ]
  },
  {
   "cell_type": "code",
   "execution_count": 113,
   "id": "cfb5b1d8",
   "metadata": {
    "scrolled": false
   },
   "outputs": [
    {
     "data": {
      "text/plain": [
       "tensor(0.3030, dtype=torch.float64)"
      ]
     },
     "execution_count": 113,
     "metadata": {},
     "output_type": "execute_result"
    }
   ],
   "source": [
    "epoch_acc"
   ]
  },
  {
   "cell_type": "markdown",
   "id": "64fdd1b0",
   "metadata": {},
   "source": [
    "### severity 3"
   ]
  },
  {
   "cell_type": "code",
   "execution_count": 114,
   "id": "e4446029",
   "metadata": {},
   "outputs": [],
   "source": [
    "severity = \"3\" ################# CHANGE FOR DATASET ####################"
   ]
  },
  {
   "cell_type": "code",
   "execution_count": 115,
   "id": "7cc9d17a",
   "metadata": {},
   "outputs": [],
   "source": [
    "image_datasets = datasets.ImageFolder(IMAGENET_C_data+data_subcategory+severity, \n",
    "                                      data_transforms)\n",
    "dataloaders = torch.utils.data.DataLoader(image_datasets, batch_size=50,\n",
    "                                             shuffle=True, num_workers=4)\n",
    "              \n",
    "dataset_sizes = len(image_datasets)\n",
    "class_names = image_datasets.classes\n",
    "device = torch.device(\"cuda:0\" if torch.cuda.is_available() else \"cpu\")\n",
    "\n",
    "n=1000\n",
    "#dataset_subset = torch.utils.data.Subset(image_datasets, np.random.choice(len(image_datasets), n, replace=False))\n",
    "sampler = torch.utils.data.RandomSampler(image_datasets, replacement=True, num_samples=n)\n",
    "dataset_subset = torch.utils.data.DataLoader(image_datasets, sampler=sampler, batch_size=50,\n",
    "                                             num_workers=4)"
   ]
  },
  {
   "cell_type": "code",
   "execution_count": 116,
   "id": "afe3ea14",
   "metadata": {},
   "outputs": [],
   "source": [
    "model.eval()\n",
    "running_corrects = 0\n",
    "for inputs, labels in dataset_subset: # dataloaders:\n",
    "    inputs = inputs.to(device)\n",
    "    labels = labels.to(device)\n",
    "    outputs = model(inputs)\n",
    "    _, preds = torch.max(outputs, 1)\n",
    "    running_corrects += torch.sum(preds == labels.data)\n",
    "    # print(running_corrects)\n",
    "# epoch_acc = running_corrects.double() / dataset_sizes"
   ]
  },
  {
   "cell_type": "code",
   "execution_count": 117,
   "id": "f16ac4ff",
   "metadata": {},
   "outputs": [
    {
     "data": {
      "text/plain": [
       "tensor(136)"
      ]
     },
     "execution_count": 117,
     "metadata": {},
     "output_type": "execute_result"
    }
   ],
   "source": [
    "running_corrects"
   ]
  },
  {
   "cell_type": "code",
   "execution_count": 118,
   "id": "27841dba",
   "metadata": {},
   "outputs": [],
   "source": [
    "epoch_acc = running_corrects.double() / n"
   ]
  },
  {
   "cell_type": "code",
   "execution_count": 119,
   "id": "be09e61a",
   "metadata": {
    "scrolled": true
   },
   "outputs": [
    {
     "data": {
      "text/plain": [
       "tensor(0.1360, dtype=torch.float64)"
      ]
     },
     "execution_count": 119,
     "metadata": {},
     "output_type": "execute_result"
    }
   ],
   "source": [
    "epoch_acc"
   ]
  },
  {
   "cell_type": "markdown",
   "id": "218b4082",
   "metadata": {},
   "source": [
    "### severity 5"
   ]
  },
  {
   "cell_type": "code",
   "execution_count": 120,
   "id": "e855ad23",
   "metadata": {},
   "outputs": [],
   "source": [
    "severity = \"5\" ################# CHANGE FOR DATASET ####################"
   ]
  },
  {
   "cell_type": "code",
   "execution_count": 121,
   "id": "cf39eef7",
   "metadata": {},
   "outputs": [],
   "source": [
    "image_datasets = datasets.ImageFolder(IMAGENET_C_data+data_subcategory+severity, \n",
    "                                      data_transforms)\n",
    "dataloaders = torch.utils.data.DataLoader(image_datasets, batch_size=50,\n",
    "                                             shuffle=True, num_workers=4)\n",
    "              \n",
    "dataset_sizes = len(image_datasets)\n",
    "class_names = image_datasets.classes\n",
    "device = torch.device(\"cuda:0\" if torch.cuda.is_available() else \"cpu\")\n",
    "\n",
    "n=1000\n",
    "#dataset_subset = torch.utils.data.Subset(image_datasets, np.random.choice(len(image_datasets), n, replace=False))\n",
    "sampler = torch.utils.data.RandomSampler(image_datasets, replacement=True, num_samples=n)\n",
    "dataset_subset = torch.utils.data.DataLoader(image_datasets, sampler=sampler, batch_size=50,\n",
    "                                             num_workers=4)"
   ]
  },
  {
   "cell_type": "code",
   "execution_count": 122,
   "id": "20251d0c",
   "metadata": {},
   "outputs": [],
   "source": [
    "model.eval()\n",
    "running_corrects = 0\n",
    "for inputs, labels in dataset_subset: # dataloaders:\n",
    "    inputs = inputs.to(device)\n",
    "    labels = labels.to(device)\n",
    "    outputs = model(inputs)\n",
    "    _, preds = torch.max(outputs, 1)\n",
    "    running_corrects += torch.sum(preds == labels.data)\n",
    "    # print(running_corrects)\n",
    "# epoch_acc = running_corrects.double() / dataset_sizes"
   ]
  },
  {
   "cell_type": "code",
   "execution_count": 123,
   "id": "da78ad94",
   "metadata": {
    "scrolled": true
   },
   "outputs": [
    {
     "data": {
      "text/plain": [
       "tensor(33)"
      ]
     },
     "execution_count": 123,
     "metadata": {},
     "output_type": "execute_result"
    }
   ],
   "source": [
    "running_corrects"
   ]
  },
  {
   "cell_type": "code",
   "execution_count": 124,
   "id": "b934a86a",
   "metadata": {},
   "outputs": [],
   "source": [
    "epoch_acc = running_corrects.double() / n"
   ]
  },
  {
   "cell_type": "code",
   "execution_count": 125,
   "id": "8311aef8",
   "metadata": {
    "scrolled": false
   },
   "outputs": [
    {
     "data": {
      "text/plain": [
       "tensor(0.0330, dtype=torch.float64)"
      ]
     },
     "execution_count": 125,
     "metadata": {},
     "output_type": "execute_result"
    }
   ],
   "source": [
    "epoch_acc "
   ]
  },
  {
   "cell_type": "markdown",
   "id": "aeb632fc",
   "metadata": {},
   "source": [
    "### plots"
   ]
  },
  {
   "cell_type": "code",
   "execution_count": 5,
   "id": "03acbb92",
   "metadata": {},
   "outputs": [],
   "source": [
    "# Alexnet 1000 samples\n",
    "gaussian_noise = [0.633,0.321, 0.0560, 0.005]\n",
    "glass_blur = [0.633,0.3440,0.1040,0.0610]\n",
    "contrast = [0.633,0.3090,0.0960,0.0040]\n",
    "fog = [0.633,0.3030,0.1360,0.0330]\n",
    "\n",
    "accs_all = []\n",
    "\n",
    "accs_all.append(gaussian_noise)\n",
    "accs_all.append(glass_blur)\n",
    "accs_all.append(contrast)\n",
    "accs_all.append(fog) "
   ]
  },
  {
   "cell_type": "code",
   "execution_count": 7,
   "id": "e3734bee",
   "metadata": {},
   "outputs": [
    {
     "data": {
      "text/plain": [
       "<matplotlib.legend.Legend at 0x14085959b20>"
      ]
     },
     "execution_count": 7,
     "metadata": {},
     "output_type": "execute_result"
    },
    {
     "data": {
      "image/png": "[encoded data removed]",
      "text/plain": [
       "<Figure size 432x288 with 1 Axes>"
      ]
     },
     "metadata": {
      "needs_background": "light"
     },
     "output_type": "display_data"
    }
   ],
   "source": [
    "corruption_levels = [1,3,5]\n",
    "Imagenet_corruption_levels = [\"Clean\",1,3,5]\n",
    "\n",
    "plt.xlabel('Corruption Levels', fontsize=12)\n",
    "plt.ylabel('top-1 AlexNet accuracy', fontsize=12)\n",
    "plt.title(label = f\"Clean, severity {corruption_levels}\", fontsize=12) \n",
    "plt.xticks([0, 1, 2, 3], Imagenet_corruption_levels, fontsize=8)\n",
    "plt.plot(accs_all[0], marker='o')\n",
    "plt.plot(accs_all[1], marker='o')\n",
    "plt.plot(accs_all[2], marker='o')\n",
    "plt.plot(accs_all[3], marker='o')\n",
    "plt.legend(['gaussian_noise', 'glass_blur', 'contrast', 'fog'])"
   ]
  },
  {
   "cell_type": "markdown",
   "id": "21648989",
   "metadata": {},
   "source": [
    "Inference times...:\n",
    "\n",
    "https://learnopencv.com/pytorch-for-beginners-image-classification-using-pre-trained-models/ \n",
    "\n",
    "Do top 5 accuracies for all categories and severities. \n",
    "\n",
    "https://gist.github.com/weiaicunzai/2a5ae6eac6712c70bde0630f3e76b77b\n",
    "\n",
    "https://www.researchgate.net/figure/Top-5-accuracy-top-1-accuracy-and-the-number-of-parameters-of-AlexNet-VGG-Inception_tbl1_339991922 \n",
    "\n",
    "https://www.researchgate.net/figure/ImageNet-C-Corruption-Groups-Accuracy-of-ViT-and-ResNet-models-on-ILSVRC-2012-clean_fig4_350457424 \n",
    "\n"
   ]
  },
  {
   "cell_type": "code",
   "execution_count": null,
   "id": "44efee94",
   "metadata": {},
   "outputs": [],
   "source": []
  }
 ],
 "metadata": {
  "kernelspec": {
   "display_name": "Python 3 (ipykernel)",
   "language": "python",
   "name": "python3"
  },
  "language_info": {
   "codemirror_mode": {
    "name": "ipython",
    "version": 3
   },
   "file_extension": ".py",
   "mimetype": "text/x-python",
   "name": "python",
   "nbconvert_exporter": "python",
   "pygments_lexer": "ipython3",
   "version": "3.9.12"
  },
  "toc": {
   "base_numbering": 1,
   "nav_menu": {},
   "number_sections": true,
   "sideBar": true,
   "skip_h1_title": false,
   "title_cell": "Table of Contents",
   "title_sidebar": "Contents",
   "toc_cell": false,
   "toc_position": {},
   "toc_section_display": true,
   "toc_window_display": true
  }
 },
 "nbformat": 4,
 "nbformat_minor": 5
}
