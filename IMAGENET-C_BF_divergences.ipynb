{
 "cells": [
  {
   "cell_type": "markdown",
   "id": "c8876137",
   "metadata": {},
   "source": [
    "IMAGENET-C_BF_divergences"
   ]
  },
  {
   "cell_type": "markdown",
   "id": "85997b25",
   "metadata": {},
   "source": [
    "Data directories:"
   ]
  },
  {
   "cell_type": "code",
   "execution_count": 1,
   "id": "c56b9a91",
   "metadata": {},
   "outputs": [],
   "source": [
    "######################### Insert_here"
   ]
  },
  {
   "cell_type": "markdown",
   "id": "42e763a0",
   "metadata": {},
   "source": [
    "# Set up"
   ]
  },
  {
   "cell_type": "code",
   "execution_count": 2,
   "id": "622dae88",
   "metadata": {},
   "outputs": [],
   "source": [
    "base_dir = base_dir_path\n",
    "IMAGENET_C_data = IMAGENET_C_data_path\n",
    "Subcategory_IMAGENET_C_files = Subcategory_IMAGENET_C_files_path"
   ]
  },
  {
   "cell_type": "code",
   "execution_count": 3,
   "id": "772bb3d7",
   "metadata": {},
   "outputs": [],
   "source": [
    "real_data = real_data"
   ]
  },
  {
   "cell_type": "code",
   "execution_count": 4,
   "id": "54d75fb9",
   "metadata": {},
   "outputs": [],
   "source": [
    "import matplotlib.pyplot as plt\n",
    "from PIL import Image\n",
    "import numpy as np\n",
    "import math\n",
    "import os\n",
    "from scipy import stats \n",
    "from scipy import fftpack\n",
    "import cv2\n",
    "import glob\n",
    "import pickle\n",
    "import seaborn as sns\n",
    "# from math import nan, isnan\n",
    "import copy"
   ]
  },
  {
   "cell_type": "markdown",
   "id": "e3f9f3f8",
   "metadata": {},
   "source": [
    "## Change parameters and rerun this section:"
   ]
  },
  {
   "cell_type": "code",
   "execution_count": 5,
   "id": "fe6ed90c",
   "metadata": {},
   "outputs": [],
   "source": [
    "# change\n",
    "category = \"noise\" ################# CHANGE FOR DATASET ####################\n",
    "subcategory = \"gaussian_noise\" ################# CHANGE FOR DATASET ####################\n",
    "severity = \"1\" ################# CHANGE FOR DATASET ####################"
   ]
  },
  {
   "cell_type": "code",
   "execution_count": 6,
   "id": "00474bc3",
   "metadata": {},
   "outputs": [],
   "source": [
    "num_channels = 3 ################# CHANGE FOR DATASET ####################\n",
    "gs = 3 # 3 for greyscale ################# CHANGE FOR DATASET ####################"
   ]
  },
  {
   "cell_type": "code",
   "execution_count": 7,
   "id": "eab8f11c",
   "metadata": {},
   "outputs": [],
   "source": [
    "FDs_DCT_f = f\"{base_dir}{Subcategory_IMAGENET_C_files}/FDs/FDs_DCT_{category}_{subcategory}_{severity}.pkl\"\n"
   ]
  },
  {
   "cell_type": "code",
   "execution_count": 8,
   "id": "dd6b0411",
   "metadata": {},
   "outputs": [],
   "source": [
    "KLs_DCT_f = f\"{base_dir}{Subcategory_IMAGENET_C_files}/Divergences/KLs_DCT_{category}_{subcategory}_{severity}.pkl\"\n",
    "\n",
    "JSs_DCT_f = f\"{base_dir}{Subcategory_IMAGENET_C_files}/Divergences/JSs_DCT_{category}_{subcategory}_{severity}.pkl\""
   ]
  },
  {
   "cell_type": "markdown",
   "id": "310c6600",
   "metadata": {},
   "source": [
    "Empirical setup:"
   ]
  },
  {
   "cell_type": "code",
   "execution_count": 9,
   "id": "1e33ab59",
   "metadata": {},
   "outputs": [],
   "source": [
    "bench_FDs_DCT_f = f\"{base_dir}{Subcategory_IMAGENET_C_files}/FDs/bench_FDs_DCT.pkl\""
   ]
  },
  {
   "cell_type": "code",
   "execution_count": 10,
   "id": "873baecb",
   "metadata": {},
   "outputs": [],
   "source": [
    "########################################################### test\n",
    "bench_KLs_DCT_f = f\"{base_dir}{Subcategory_IMAGENET_C_files}/Divergences/bench_KLs_DCT.pkl\"\n",
    "bench_JSs_DCT_f = f\"{base_dir}{Subcategory_IMAGENET_C_files}/Divergences/bench_JSs_DCT.pkl\""
   ]
  },
  {
   "cell_type": "code",
   "execution_count": 11,
   "id": "62b6c162",
   "metadata": {},
   "outputs": [],
   "source": [
    "emp_bench_KLs_DCT_f = f\"{base_dir}{Subcategory_IMAGENET_C_files}/Divergences/emp_bench_KLs_DCT.pkl\" \n",
    "emp_bench_JSs_DCT_f = f\"{base_dir}{Subcategory_IMAGENET_C_files}/Divergences/emp_bench_JSs_DCT.pkl\""
   ]
  },
  {
   "cell_type": "markdown",
   "id": "a48ac5c3",
   "metadata": {},
   "source": [
    "## Utilities"
   ]
  },
  {
   "cell_type": "code",
   "execution_count": 12,
   "id": "7cace304",
   "metadata": {},
   "outputs": [],
   "source": [
    "dist_benford_law = np.zeros(9)\n",
    "for d in range(1,10):\n",
    "    dist_benford_law[d-1] = math.log(1 + 1/(d), 10)"
   ]
  },
  {
   "cell_type": "code",
   "execution_count": 13,
   "id": "37d0bc76",
   "metadata": {},
   "outputs": [],
   "source": [
    "# Define 2D DCT \n",
    "def dct2(a):\n",
    "    return fftpack.dct(fftpack.dct( a, axis=0, norm='ortho' ), \n",
    "                             axis=1, norm='ortho' )\n",
    "\n",
    "def DCT(images):\n",
    "  imsize = images.shape\n",
    "  DCT_input = np.zeros(imsize)\n",
    "\n",
    "  #DCT_input = np.copy(images)\n",
    "  for im_no in range(len(images)):\n",
    "    im = images[im_no].reshape(images.shape[1],images.shape[2])\n",
    "    imsize = im.shape\n",
    "    dct = np.zeros(imsize)\n",
    "    for i in np.r_[:imsize[0]:8]:\n",
    "      for j in np.r_[:imsize[1]:8]:\n",
    "          dct[i:(i+8),j:(j+8)] = dct2( im[i:(i+8),j:(j+8)] )\n",
    "    #print(dct[10])\n",
    "    DCT_input[im_no,:,:,0] = dct\n",
    "  return DCT_input\n",
    "\n",
    "def benford_law_images(input_img):\n",
    "    freq_array = np.zeros(10)\n",
    "\n",
    "    for i in range(len(input_img)):\n",
    "        first_digit = int(abs(input_img[i])*255 // \n",
    "                          (10 ** (int(math.log(max(abs(input_img[i])*255, 1e-32), 10))) ))\n",
    "        # print(first_digit)\n",
    "        freq_array[first_digit] += 1\n",
    "    \n",
    "    return freq_array"
   ]
  },
  {
   "cell_type": "code",
   "execution_count": 14,
   "id": "4e91bc17",
   "metadata": {},
   "outputs": [],
   "source": [
    "def iterative_gradient(original_images, it):\n",
    "\n",
    "    gradient_input = np.copy(original_images)\n",
    "\n",
    "    for i in range(it):\n",
    "\n",
    "        gradient_x = list()\n",
    "        gradient_y = list()\n",
    "        \n",
    "        for i in range(len(gradient_input)):\n",
    "            gradient_x.append(cv2.Sobel(gradient_input[i], cv2.CV_64F, 1, 0, ksize=1))\n",
    "            gradient_y.append(cv2.Sobel(gradient_input[i], cv2.CV_64F, 0, 1, ksize=1))\n",
    "\n",
    "        gradient_input = np.sqrt(np.square(gradient_x) + np.square(gradient_y))\n",
    "\n",
    "    return gradient_input"
   ]
  },
  {
   "cell_type": "markdown",
   "id": "8a63c21d",
   "metadata": {},
   "source": [
    "# Imagenet-C calculations for specified category, subcategory, severity"
   ]
  },
  {
   "cell_type": "markdown",
   "id": "5c4009e0",
   "metadata": {},
   "source": [
    "## FDs"
   ]
  },
  {
   "cell_type": "markdown",
   "id": "9c056feb",
   "metadata": {},
   "source": [
    "Prerequisites:\n",
    "\n",
    "First time: Change parameters in 1.1. Run 1.0, 1.1, 1.2\n",
    "\n",
    "When changing parameters: Change parameters in 1.1. Run 1.1"
   ]
  },
  {
   "cell_type": "markdown",
   "id": "7d73d1b3",
   "metadata": {},
   "source": [
    "DCT"
   ]
  },
  {
   "cell_type": "code",
   "execution_count": null,
   "id": "756f142b",
   "metadata": {},
   "outputs": [],
   "source": [
    "next(os.walk(f'{base_dir}{IMAGENET_C_data}/{category}/{subcategory}/{severity}.'))#[1]"
   ]
  },
  {
   "cell_type": "code",
   "execution_count": null,
   "id": "c3e03e8a",
   "metadata": {},
   "outputs": [],
   "source": [
    "if not os.path.exists(FDs_DCT_f): \n",
    "    FDs_DCT = []\n",
    "\n",
    "    for class_id in range(len(next(os.walk(f'{base_dir}{IMAGENET_C_data}/{category}/{subcategory}/{severity}.'))[1])): \n",
    "        IMAGENET_CLASS = next(os.walk(f'{base_dir}{IMAGENET_C_data}/{category}/{subcategory}/{severity}.'))[1][class_id]\n",
    "        ims = list()\n",
    "        for file in glob.glob(f'{base_dir}{IMAGENET_C_data}/{category}/{subcategory}/{severity}/{IMAGENET_CLASS}/*.jpeg'):\n",
    "            img = Image.open(file)\n",
    "            img = img.convert('L') # converting to greyscale\n",
    "            img = np.asarray(np.int8(img)) - 128 # centering around 0\n",
    "            ims.append(img)\n",
    "\n",
    "        ims = np.array(ims).reshape(np.array(ims).shape[0],np.array(ims).shape[1], np.array(ims).shape[2],\n",
    "                                    int(num_channels/gs)) # taking greyscale so 3/3 = 1 channel\n",
    "        \n",
    "        # transforming using DCT\n",
    "        DCT_ims = DCT(np.array(ims))\n",
    "        FD_DCT = []\n",
    "\n",
    "        for im_i in range(len(DCT_ims)):\n",
    "            FD_DCT.append(benford_law_images(DCT_ims[im_i].reshape(DCT_ims.shape[1]*DCT_ims.shape[2])))\n",
    "\n",
    "        FDs_DCT.append(FD_DCT)"
   ]
  },
  {
   "cell_type": "code",
   "execution_count": null,
   "id": "0e7cf6bd",
   "metadata": {},
   "outputs": [],
   "source": [
    "# save file\n",
    "if not os.path.exists(FDs_DCT_f): \n",
    "    with open(FDs_DCT_f, \"wb\") as fp: \n",
    "        pickle.dump(FDs_DCT, fp) "
   ]
  },
  {
   "cell_type": "markdown",
   "id": "4b485fb7",
   "metadata": {},
   "source": [
    "## BF Divergences"
   ]
  },
  {
   "cell_type": "markdown",
   "id": "cc4e2ba2",
   "metadata": {},
   "source": [
    "Prerequisites:\n",
    "\n",
    "First time: Change parameters in 1.1. Run 1.0, 1.1, 1.2\n",
    "\n",
    "When changing parameters: Change parameters in 1.1. Run 1.1"
   ]
  },
  {
   "cell_type": "markdown",
   "id": "adb58cac",
   "metadata": {},
   "source": [
    "DCT"
   ]
  },
  {
   "cell_type": "code",
   "execution_count": null,
   "id": "b55e46b2",
   "metadata": {},
   "outputs": [],
   "source": [
    "# load saved file\n",
    "with open(FDs_DCT_f, \"rb\") as fp: \n",
    "    FDs_DCT = pickle.load(fp) "
   ]
  },
  {
   "cell_type": "code",
   "execution_count": null,
   "id": "8631daa3",
   "metadata": {},
   "outputs": [],
   "source": [
    "if not os.path.exists(KLs_DCT_f): \n",
    "    KLs_DCT = []\n",
    "    JSs_DCT = []\n",
    "    \n",
    "    for class_id in range(len(FDs_DCT)): \n",
    "        KL_DCT = []\n",
    "        JS_DCT = []\n",
    "        \n",
    "        for i in range(len(FDs_DCT[class_id])):\n",
    "            KL_DCT.append(stats.entropy(dist_benford_law, FDs_DCT[class_id][i][1:])) \n",
    "            JS_DCT.append(stats.entropy(dist_benford_law, FDs_DCT[class_id][i][1:]) + stats.entropy(FDs_DCT[class_id][i][1:],dist_benford_law))\n",
    "        \n",
    "        KLs_DCT.append(KL_DCT)\n",
    "        JSs_DCT.append(JS_DCT)"
   ]
  },
  {
   "cell_type": "code",
   "execution_count": null,
   "id": "cc22545b",
   "metadata": {},
   "outputs": [],
   "source": [
    "# save file\n",
    "if not os.path.exists(KLs_DCT_f): \n",
    "    with open(KLs_DCT_f, \"wb\") as fp: \n",
    "        pickle.dump(KLs_DCT, fp)  \n",
    "\n",
    "if not os.path.exists(JSs_DCT_f): \n",
    "    with open(JSs_DCT_f, \"wb\") as fp: \n",
    "        pickle.dump(JSs_DCT, fp) \n",
    "        "
   ]
  },
  {
   "cell_type": "markdown",
   "id": "5382718d",
   "metadata": {},
   "source": [
    "# Benchmark calculations on uncorrupted Imagenet validation data"
   ]
  },
  {
   "cell_type": "markdown",
   "id": "580da965",
   "metadata": {},
   "source": [
    "## FDs"
   ]
  },
  {
   "cell_type": "markdown",
   "id": "f522afed",
   "metadata": {},
   "source": [
    "Prerequisites:\n",
    "\n",
    "First time: Change parameters in 1.1. Run 1.0, 1.1, 1.2\n",
    "\n",
    "When changing parameters: Change parameters in 1.1. Run 1.1"
   ]
  },
  {
   "cell_type": "markdown",
   "id": "0f4b306f",
   "metadata": {},
   "source": [
    "DCT"
   ]
  },
  {
   "cell_type": "code",
   "execution_count": null,
   "id": "b5f33edf",
   "metadata": {},
   "outputs": [],
   "source": [
    "if not os.path.exists(bench_FDs_DCT_f): \n",
    "    DCT_ims = []\n",
    "    FD_DCT = []\n",
    "    \n",
    "    for file in glob.glob(f'{base_dir}{real_data}/*.jpeg'):\n",
    "        img = Image.open(file)\n",
    "        img = img.convert('L') # converting to greyscale\n",
    "        img = np.asarray(np.int8(img)) - 128 # centering around 0\n",
    "        \n",
    "        DCT_img = DCT(img.reshape(1,img.shape[0], img.shape[1],int(num_channels/gs))) # transforming using DCT\n",
    "        FD_DCT.append(benford_law_images(DCT_img.reshape(DCT_img.shape[1]*DCT_img.shape[2])))\n"
   ]
  },
  {
   "cell_type": "code",
   "execution_count": null,
   "id": "d3a3cc3f",
   "metadata": {},
   "outputs": [],
   "source": [
    "# save file\n",
    "if not os.path.exists(bench_FDs_DCT_f): \n",
    "    with open(bench_FDs_DCT_f, \"wb\") as fp: \n",
    "        pickle.dump(FD_DCT, fp) "
   ]
  },
  {
   "cell_type": "markdown",
   "id": "696b64e5",
   "metadata": {},
   "source": [
    "## BF Divergences"
   ]
  },
  {
   "cell_type": "markdown",
   "id": "31d7afb6",
   "metadata": {},
   "source": [
    "Prerequisites:\n",
    "\n",
    "First time: Change parameters in 1.1. Run 1.0, 1.1, 1.2, 3.0\n",
    "\n",
    "When changing parameters: Change parameters in 1.1. Run 1.1"
   ]
  },
  {
   "cell_type": "code",
   "execution_count": null,
   "id": "f9400386",
   "metadata": {},
   "outputs": [],
   "source": [
    "# load saved file\n",
    "with open(bench_FDs_DCT_f, \"rb\") as fp: \n",
    "    bench_FDs_DCT = pickle.load(fp) "
   ]
  },
  {
   "cell_type": "code",
   "execution_count": null,
   "id": "8232d4b1",
   "metadata": {},
   "outputs": [],
   "source": [
    "if not os.path.exists(bench_KLs_DCT_f): \n",
    "    bench_KLs_DCT = []\n",
    "    bench_JSs_DCT = []\n",
    "    \n",
    "    for i in range(len(bench_FDs_DCT)):\n",
    "        bench_KLs_DCT.append(stats.entropy(dist_benford_law, bench_FDs_DCT[i][1:])) \n",
    "        bench_JSs_DCT.append(stats.entropy(dist_benford_law, bench_FDs_DCT[i][1:]) + stats.entropy(bench_FDs_DCT[i][1:],dist_benford_law))\n"
   ]
  },
  {
   "cell_type": "code",
   "execution_count": null,
   "id": "4501fdd2",
   "metadata": {},
   "outputs": [],
   "source": [
    "# save file\n",
    "if not os.path.exists(bench_KLs_DCT_f): \n",
    "    with open(bench_KLs_DCT_f, \"wb\") as fp: \n",
    "        pickle.dump(bench_KLs_DCT, fp) \n",
    "        \n",
    "if not os.path.exists(bench_JSs_DCT_f): \n",
    "    with open(bench_JSs_DCT_f, \"wb\") as fp: \n",
    "        pickle.dump(bench_JSs_DCT, fp) "
   ]
  },
  {
   "cell_type": "markdown",
   "id": "e3f77b99",
   "metadata": {},
   "source": [
    "# Calculate empirical divergences for Imagenet-C for specified category, subcategory, severity"
   ]
  },
  {
   "cell_type": "markdown",
   "id": "8f9210af",
   "metadata": {},
   "source": [
    "## Calculate empirical FD benchmark"
   ]
  },
  {
   "cell_type": "markdown",
   "id": "e1af5841",
   "metadata": {},
   "source": [
    "Prerequisites:\n",
    "\n",
    "First time: Change parameters in 1.1. Run 1.0, 1.1, 1.2\n",
    "\n",
    "When changing parameters: Change parameters in 1.1. Run 1.1"
   ]
  },
  {
   "cell_type": "markdown",
   "id": "637b4d47",
   "metadata": {},
   "source": [
    "DCT"
   ]
  },
  {
   "cell_type": "code",
   "execution_count": null,
   "id": "ff8f4ff7",
   "metadata": {},
   "outputs": [],
   "source": [
    "# load saved file\n",
    "with open(bench_FDs_DCT_f, \"rb\") as fp: \n",
    "    bench_FDs_DCT = pickle.load(fp) "
   ]
  },
  {
   "cell_type": "code",
   "execution_count": null,
   "id": "2f5b3114",
   "metadata": {},
   "outputs": [],
   "source": [
    "bench_dist = np.mean(bench_FDs_DCT,axis=0)[1:]\n",
    "bench_dist = bench_dist/sum(bench_dist)"
   ]
  },
  {
   "cell_type": "code",
   "execution_count": null,
   "id": "3dbd922d",
   "metadata": {},
   "outputs": [],
   "source": [
    "bench_dist"
   ]
  },
  {
   "cell_type": "code",
   "execution_count": null,
   "id": "338cbe44",
   "metadata": {},
   "outputs": [],
   "source": []
  },
  {
   "cell_type": "markdown",
   "id": "a72ffc65",
   "metadata": {},
   "source": [
    "## Empirical divergence"
   ]
  },
  {
   "cell_type": "markdown",
   "id": "c549f97c",
   "metadata": {},
   "source": [
    "Prerequisites:\n",
    "\n",
    "First time: Change parameters in 1.1. Run 1.0, 1.1, 1.2, 4.1\n",
    "\n",
    "When changing parameters: Change parameters in 1.1. Run 1.1"
   ]
  },
  {
   "cell_type": "code",
   "execution_count": null,
   "id": "b194e22d",
   "metadata": {},
   "outputs": [],
   "source": [
    "emp_KLs_DCT_f = f\"{base_dir}{Subcategory_IMAGENET_C_files}/Divergences/emp_KLs_DCT_{category}_{subcategory}_{severity}.pkl\"\n",
    "emp_JSs_DCT_f = f\"{base_dir}{Subcategory_IMAGENET_C_files}/Divergences/emp_JSs_DCT_{category}_{subcategory}_{severity}.pkl\""
   ]
  },
  {
   "cell_type": "markdown",
   "id": "785b42b4",
   "metadata": {},
   "source": [
    "DCT"
   ]
  },
  {
   "cell_type": "code",
   "execution_count": null,
   "id": "fba8d352",
   "metadata": {},
   "outputs": [],
   "source": [
    "# load saved file\n",
    "with open(FDs_DCT_f, \"rb\") as fp: \n",
    "    FDs_DCT = pickle.load(fp) "
   ]
  },
  {
   "cell_type": "code",
   "execution_count": null,
   "id": "0630ef2f",
   "metadata": {},
   "outputs": [],
   "source": [
    "if not os.path.exists(emp_KLs_DCT_f): \n",
    "    KLs_DCT = []\n",
    "    JSs_DCT = []\n",
    "    \n",
    "    for class_id in range(len(FDs_DCT)): \n",
    "        KL_DCT = []\n",
    "        JS_DCT = []\n",
    "        \n",
    "        for i in range(len(FDs_DCT[class_id])):\n",
    "            KL_DCT.append(stats.entropy(bench_dist, FDs_DCT[class_id][i][1:])) \n",
    "            JS_DCT.append(stats.entropy(bench_dist, FDs_DCT[class_id][i][1:]) + stats.entropy(FDs_DCT[class_id][i][1:], bench_dist)) \n",
    "        \n",
    "        KLs_DCT.append(KL_DCT)\n",
    "        JSs_DCT.append(JS_DCT)\n",
    "# C:\\Users\\lauraa.omahony\\Anaconda3\\envs\\First_digit_experiments\\lib\\site-packages\\scipy\\stats\\_entropy.py:78: RuntimeWarning: invalid value encountered in true_divide\n",
    "#   qk = 1.0*qk / np.sum(qk, axis=axis, keepdims=True)"
   ]
  },
  {
   "cell_type": "code",
   "execution_count": null,
   "id": "f74ff687",
   "metadata": {},
   "outputs": [],
   "source": [
    "# save file\n",
    "if not os.path.exists(emp_KLs_DCT_f): \n",
    "    with open(emp_KLs_DCT_f, \"wb\") as fp: \n",
    "        pickle.dump(KLs_DCT, fp) \n",
    "      \n",
    "if not os.path.exists(emp_JSs_DCT_f): \n",
    "    with open(emp_JSs_DCT_f, \"wb\") as fp: \n",
    "        pickle.dump(JSs_DCT, fp)   "
   ]
  },
  {
   "cell_type": "markdown",
   "id": "0e04b644",
   "metadata": {},
   "source": [
    "GM"
   ]
  },
  {
   "cell_type": "code",
   "execution_count": null,
   "id": "42eee90f",
   "metadata": {},
   "outputs": [],
   "source": []
  },
  {
   "cell_type": "markdown",
   "id": "93e4e263",
   "metadata": {},
   "source": [
    "## Empirical divergence for Imagenet-C"
   ]
  },
  {
   "cell_type": "markdown",
   "id": "affabefa",
   "metadata": {},
   "source": [
    "Prerequisites:\n",
    "\n",
    "First time: Change parameters in 1.1. Run 1.0, 1.1, 1.2, 4.1\n",
    "\n",
    "When changing parameters: Change parameters in 1.1. Run 1.1"
   ]
  },
  {
   "cell_type": "code",
   "execution_count": null,
   "id": "9b62fc4b",
   "metadata": {},
   "outputs": [],
   "source": [
    "# load saved file\n",
    "with open(bench_FDs_DCT_f, \"rb\") as fp: \n",
    "    bench_FDs_DCT = pickle.load(fp) "
   ]
  },
  {
   "cell_type": "code",
   "execution_count": null,
   "id": "0f401ff5",
   "metadata": {},
   "outputs": [],
   "source": [
    "if not os.path.exists(emp_bench_KLs_DCT_f): \n",
    "    emp_bench_KLs_DCT = []\n",
    "    emp_bench_JSs_DCT = []\n",
    "    \n",
    "    for i in range(len(bench_FDs_DCT)):\n",
    "        emp_bench_KLs_DCT.append(stats.entropy(bench_dist, bench_FDs_DCT[i][1:])) \n",
    "        emp_bench_JSs_DCT.append(stats.entropy(bench_dist, bench_FDs_DCT[i][1:]) + stats.entropy(bench_FDs_DCT[i][1:],bench_dist))\n"
   ]
  },
  {
   "cell_type": "code",
   "execution_count": null,
   "id": "1ef43ec7",
   "metadata": {},
   "outputs": [],
   "source": [
    "# save file\n",
    "if not os.path.exists(emp_bench_KLs_DCT_f): \n",
    "    with open(emp_bench_KLs_DCT_f, \"wb\") as fp: \n",
    "        pickle.dump(emp_bench_KLs_DCT, fp) \n",
    "      \n",
    "if not os.path.exists(emp_bench_JSs_DCT_f): \n",
    "    with open(emp_bench_JSs_DCT_f, \"wb\") as fp: \n",
    "        pickle.dump(emp_bench_JSs_DCT, fp)   "
   ]
  },
  {
   "cell_type": "markdown",
   "id": "50505745",
   "metadata": {},
   "source": [
    "# Plots and Summaries"
   ]
  },
  {
   "cell_type": "markdown",
   "id": "4f232618",
   "metadata": {},
   "source": [
    "Prerequisites:\n",
    "\n",
    "First time: Change parameters in 1.1. Run 1.0, 1.1, 1.2\n",
    "\n",
    "When changing parameters: Change parameters in 1.1. Run 1.1"
   ]
  },
  {
   "cell_type": "markdown",
   "id": "4839c909",
   "metadata": {},
   "source": [
    "Ensure you have all KLs_DCT_category_subcategory_severity.pkl and JSs_DCT_category_subcategory_severity.pkl files created in 2 for corrution severity levels. \n",
    "\n",
    "Aso need bench_KLs_DCT.pkl and bench_JSs_DCT.pkl (divergence of Imagenet-C from BF) files created in 3.2. "
   ]
  },
  {
   "cell_type": "markdown",
   "id": "a2ebe32a",
   "metadata": {},
   "source": [
    "## Load files for current configuration"
   ]
  },
  {
   "cell_type": "code",
   "execution_count": 173,
   "id": "4b1c6029",
   "metadata": {},
   "outputs": [],
   "source": [
    "corruption_levels = [1,3,5]\n",
    "Imagenet_corruption_levels = [\"Clean\",1,3,5]"
   ]
  },
  {
   "cell_type": "code",
   "execution_count": 174,
   "id": "c9027cc0",
   "metadata": {},
   "outputs": [],
   "source": [
    "KLs_DCT_files = []\n",
    "# KLs_GM_files = []\n",
    "JSs_DCT_files = []\n",
    "\n",
    "for lev in range(len(corruption_levels)):\n",
    "    KLs_DCT_files.append(f\"{base_dir}{Subcategory_IMAGENET_C_files}/Divergences/KLs_DCT_{category}_{subcategory}_{corruption_levels[lev]}.pkl\")\n",
    "#     KLs_GM_files.append(f\"{base_dir}{Subcategory_IMAGENET_C_files}/Divergences/KLs_GM_{category}_{subcategory}_{corruption_levels[lev]}.pkl\")\n",
    "    JSs_DCT_files.append(f\"{base_dir}{Subcategory_IMAGENET_C_files}/Divergences/JSs_DCT_{category}_{subcategory}_{corruption_levels[lev]}.pkl\")"
   ]
  },
  {
   "cell_type": "code",
   "execution_count": 175,
   "id": "7f7dbc88",
   "metadata": {},
   "outputs": [],
   "source": [
    "KLs_DCT_levs = []\n",
    "# KLs_GM_levs = []\n",
    "JSs_DCT_levs = []\n",
    "\n",
    "# load saved files\n",
    "for lev in range(len(corruption_levels)):\n",
    "    with open(KLs_DCT_files[lev], \"rb\") as fp: \n",
    "        KLs_DCT_levs.append(pickle.load(fp))\n",
    "#     with open(KLs_GM_files[lev], \"rb\") as fp: \n",
    "#         KLs_GM_levs.append(pickle.load(fp))\n",
    "    with open(JSs_DCT_files[lev], \"rb\") as fp: \n",
    "        JSs_DCT_levs.append(pickle.load(fp))\n",
    "        \n",
    "with open(bench_KLs_DCT_f, \"rb\") as fp: \n",
    "    bench_KLs_DCT = pickle.load(fp)\n",
    "with open(bench_JSs_DCT_f, \"rb\") as fp: \n",
    "    bench_JSs_DCT = pickle.load(fp)"
   ]
  },
  {
   "cell_type": "markdown",
   "id": "2edc4166",
   "metadata": {},
   "source": [
    "## BF plots"
   ]
  },
  {
   "cell_type": "code",
   "execution_count": 176,
   "id": "c4278f63",
   "metadata": {},
   "outputs": [],
   "source": [
    "DCT_KL_boxplot_f = f\"{base_dir}{Subcategory_IMAGENET_C_files}/Figures/BF/crop/pic_KLs_DCT_{category}_{subcategory}_{corruption_levels}.png\"\n",
    "DCT_KL_boxplot_full_f = f\"{base_dir}{Subcategory_IMAGENET_C_files}/Figures/BF/full/pic_KLs_DCT_full_{category}_{subcategory}_{corruption_levels}.png\"\n",
    "\n",
    "DCT_JS_boxplot_f = f\"{base_dir}{Subcategory_IMAGENET_C_files}/Figures/BF/crop/pic_JSs_DCT_{category}_{subcategory}_{corruption_levels}.png\"\n",
    "DCT_JS_boxplot_full_f = f\"{base_dir}{Subcategory_IMAGENET_C_files}/Figures/BF/full/pic_JSs_DCT_full_{category}_{subcategory}_{corruption_levels}.png\"\n"
   ]
  },
  {
   "cell_type": "code",
   "execution_count": 177,
   "id": "a92aafa4",
   "metadata": {},
   "outputs": [],
   "source": [
    "KLs_DCT_all = []\n",
    "\n",
    "KLs_DCT_all.append(bench_KLs_DCT)\n",
    "KLs_DCT_all.append(KLs_DCT_levs[0])\n",
    "KLs_DCT_all.append(KLs_DCT_levs[1])\n",
    "KLs_DCT_all.append(KLs_DCT_levs[2])\n",
    "\n",
    "JSs_DCT_all = []\n",
    "\n",
    "JSs_DCT_all.append(bench_JSs_DCT)\n",
    "JSs_DCT_all.append(JSs_DCT_levs[0])\n",
    "JSs_DCT_all.append(JSs_DCT_levs[1])\n",
    "JSs_DCT_all.append(JSs_DCT_levs[2])"
   ]
  },
  {
   "cell_type": "code",
   "execution_count": 179,
   "id": "b76c579c",
   "metadata": {},
   "outputs": [
    {
     "name": "stdout",
     "output_type": "stream",
     "text": [
      "saved file!\n"
     ]
    },
    {
     "data": {
      "image/png": "[encoded data removed]",
      "text/plain": [
       "<Figure size 432x288 with 1 Axes>"
      ]
     },
     "metadata": {
      "needs_background": "light"
     },
     "output_type": "display_data"
    }
   ],
   "source": [
    "fig_KL = sns.boxplot(data=KLs_DCT_all)\n",
    "fig_KL.set_xticklabels(Imagenet_corruption_levels)\n",
    "fig_KL.tick_params(labelsize=12)\n",
    "plt.xlabel('Corruption Levels', fontsize=18)\n",
    "plt.ylabel('KL', fontsize=18)\n",
    "plt.ylim(0, 0.1)\n",
    "plt.title(label = f\"KLs clean, {subcategory} severity {corruption_levels}\", fontsize=18)\n",
    "plt.tight_layout()\n",
    "\n",
    "if not os.path.exists(DCT_KL_boxplot_f):\n",
    "    plt.savefig(DCT_KL_boxplot_f) \n",
    "    print(\"saved file!\")\n",
    "else: \n",
    "    print(\"File already exists!\")\n",
    "    "
   ]
  },
  {
   "cell_type": "code",
   "execution_count": 180,
   "id": "d68004b3",
   "metadata": {},
   "outputs": [
    {
     "name": "stdout",
     "output_type": "stream",
     "text": [
      "saved file!\n"
     ]
    },
    {
     "data": {
      "image/png": "[encoded data removed]",
      "text/plain": [
       "<Figure size 432x288 with 1 Axes>"
      ]
     },
     "metadata": {
      "needs_background": "light"
     },
     "output_type": "display_data"
    }
   ],
   "source": [
    "fig_KL = sns.boxplot(data=KLs_DCT_all)\n",
    "fig_KL.set_xticklabels(Imagenet_corruption_levels)\n",
    "fig_KL.tick_params(labelsize=12)\n",
    "plt.xlabel('Corruption Levels', fontsize=18)\n",
    "plt.ylabel('KL', fontsize=18)\n",
    "plt.title(label = f\"KLs clean, {subcategory} severity {corruption_levels}\", fontsize=18)\n",
    "plt.tight_layout()\n",
    "\n",
    "if not os.path.exists(DCT_KL_boxplot_full_f):\n",
    "    plt.savefig(DCT_KL_boxplot_full_f) \n",
    "    print(\"saved file!\")\n",
    "else: \n",
    "    print(\"File already exists!\")\n",
    "    "
   ]
  },
  {
   "cell_type": "code",
   "execution_count": 181,
   "id": "8b893675",
   "metadata": {
    "scrolled": true
   },
   "outputs": [
    {
     "name": "stdout",
     "output_type": "stream",
     "text": [
      "saved file!\n"
     ]
    },
    {
     "data": {
      "image/png": "[encoded data removed]",
      "text/plain": [
       "<Figure size 432x288 with 1 Axes>"
      ]
     },
     "metadata": {
      "needs_background": "light"
     },
     "output_type": "display_data"
    }
   ],
   "source": [
    "fig_JS = sns.boxplot(data=JSs_DCT_all)\n",
    "fig_JS.set_xticklabels(Imagenet_corruption_levels)\n",
    "fig_JS.tick_params(labelsize=12)\n",
    "plt.xlabel('Corruption Levels', fontsize=18)\n",
    "plt.ylabel('JS', fontsize=18)\n",
    "plt.ylim(0, 0.1)\n",
    "plt.title(label = f\"JSs clean, {subcategory} severity {corruption_levels}\", fontsize=18)\n",
    "plt.tight_layout()\n",
    "\n",
    "if not os.path.exists(DCT_JS_boxplot_f):\n",
    "    plt.savefig(DCT_JS_boxplot_f) \n",
    "    print(\"saved file!\")\n",
    "else: \n",
    "    print(\"File already exists!\")\n",
    "    "
   ]
  },
  {
   "cell_type": "code",
   "execution_count": 182,
   "id": "ae3bdadf",
   "metadata": {},
   "outputs": [
    {
     "name": "stdout",
     "output_type": "stream",
     "text": [
      "saved file!\n"
     ]
    },
    {
     "data": {
      "image/png": "[encoded data removed]",
      "text/plain": [
       "<Figure size 432x288 with 1 Axes>"
      ]
     },
     "metadata": {
      "needs_background": "light"
     },
     "output_type": "display_data"
    }
   ],
   "source": [
    "fig_JS = sns.boxplot(data=JSs_DCT_all)\n",
    "fig_JS.set_xticklabels(Imagenet_corruption_levels)\n",
    "fig_JS.tick_params(labelsize=12)\n",
    "plt.xlabel('Corruption Levels', fontsize=18)\n",
    "plt.ylabel('JS', fontsize=18)\n",
    "# plt.ylim(0, 0.1)\n",
    "plt.title(label = f\"JSs clean, {subcategory} severity {corruption_levels}\", fontsize=18)\n",
    "plt.tight_layout()\n",
    "\n",
    "if not os.path.exists(DCT_JS_boxplot_full_f):\n",
    "    plt.savefig(DCT_JS_boxplot_full_f) \n",
    "    print(\"saved file!\")\n",
    "else: \n",
    "    print(\"File already exists!\")\n",
    "    "
   ]
  },
  {
   "cell_type": "markdown",
   "id": "850b9e90",
   "metadata": {},
   "source": [
    "## Divergence differences"
   ]
  },
  {
   "cell_type": "code",
   "execution_count": 121,
   "id": "89299fe0",
   "metadata": {},
   "outputs": [],
   "source": [
    "DCT_KL_boxplot_1_3_f = f\"{base_dir}{Subcategory_IMAGENET_C_files}/Figures/BF/diff_KLs_DCT_{category}_{subcategory}.png\"\n",
    "DCT_JS_boxplot_1_3_f = f\"{base_dir}{Subcategory_IMAGENET_C_files}/Figures/BF/diff_JSs_DCT_{category}_{subcategory}.png\"\n"
   ]
  },
  {
   "cell_type": "code",
   "execution_count": 122,
   "id": "1356e24f",
   "metadata": {},
   "outputs": [],
   "source": [
    "KLs_diff = []\n",
    "JSs_diff = []\n",
    "\n",
    "KLs_DCT_1_3 = np.array(KLs_DCT_levs[1]) - np.array(KLs_DCT_levs[0])\n",
    "KLs_DCT_1_5 = np.array(KLs_DCT_levs[2]) - np.array(KLs_DCT_levs[0])\n",
    "\n",
    "KLs_diff.append(KLs_DCT_1_3.tolist())\n",
    "KLs_diff.append(KLs_DCT_1_3.tolist())\n",
    "\n",
    "JSs_DCT_1_3 = np.array(JSs_DCT_levs[1]) - np.array(JSs_DCT_levs[0])\n",
    "JSs_DCT_1_5 = np.array(JSs_DCT_levs[2]) - np.array(JSs_DCT_levs[0])\n",
    "\n",
    "JSs_diff.append(JSs_DCT_1_3.tolist())\n",
    "JSs_diff.append(JSs_DCT_1_3.tolist())"
   ]
  },
  {
   "cell_type": "code",
   "execution_count": 123,
   "id": "dd0c0f52",
   "metadata": {},
   "outputs": [
    {
     "name": "stdout",
     "output_type": "stream",
     "text": [
      "saved file!\n"
     ]
    },
    {
     "data": {
      "image/png": "[encoded data removed]",
      "text/plain": [
       "<Figure size 432x288 with 1 Axes>"
      ]
     },
     "metadata": {
      "needs_background": "light"
     },
     "output_type": "display_data"
    }
   ],
   "source": [
    "fig = sns.boxplot(data=KLs_diff)\n",
    "fig.set_xticklabels([\"1 vs. 3\",\"1 vs. 5\"])\n",
    "fig.tick_params(labelsize=12)\n",
    "plt.xlabel('Corruption Level Difference', fontsize=18)\n",
    "plt.ylabel('KL', fontsize=18)\n",
    "# plt.ylim(0, 0.1)\n",
    "plt.title(label = f\"KL differences {category}-{subcategory}\", fontsize=18)\n",
    "plt.tight_layout()\n",
    "\n",
    "if not os.path.exists(DCT_KL_boxplot_1_3_f):\n",
    "    plt.savefig(DCT_KL_boxplot_1_3_f) \n",
    "    print(\"saved file!\")\n",
    "else: \n",
    "    print(\"File already exists!\")\n"
   ]
  },
  {
   "cell_type": "code",
   "execution_count": 124,
   "id": "87b620fc",
   "metadata": {
    "scrolled": false
   },
   "outputs": [
    {
     "name": "stdout",
     "output_type": "stream",
     "text": [
      "saved file!\n"
     ]
    },
    {
     "data": {
      "image/png": "[encoded data removed]",
      "text/plain": [
       "<Figure size 432x288 with 1 Axes>"
      ]
     },
     "metadata": {
      "needs_background": "light"
     },
     "output_type": "display_data"
    }
   ],
   "source": [
    "fig = sns.boxplot(data=JSs_diff)\n",
    "fig.set_xticklabels([\"1-3\",\"1-5\"])\n",
    "fig.tick_params(labelsize=12)\n",
    "plt.xlabel('Corruption Level Difference', fontsize=18)\n",
    "plt.ylabel('JS', fontsize=18)\n",
    "# plt.ylim(0, 0.1)\n",
    "plt.title(label = f\"JS differences {category}-{subcategory}\", fontsize=18)\n",
    "plt.tight_layout()\n",
    "\n",
    "if not os.path.exists(DCT_JS_boxplot_1_3_f):\n",
    "    plt.savefig(DCT_JS_boxplot_1_3_f) \n",
    "    print(\"saved file!\")\n",
    "else: \n",
    "    print(\"File already exists!\")\n"
   ]
  },
  {
   "cell_type": "markdown",
   "id": "a007772d",
   "metadata": {},
   "source": [
    "## Process to get rid of inf values"
   ]
  },
  {
   "cell_type": "markdown",
   "id": "4daab402",
   "metadata": {},
   "source": [
    "Get rid of inf values"
   ]
  },
  {
   "cell_type": "markdown",
   "id": "d9158e3e",
   "metadata": {},
   "source": [
    "Benchmark first: "
   ]
  },
  {
   "cell_type": "code",
   "execution_count": null,
   "id": "0e7798d1",
   "metadata": {},
   "outputs": [],
   "source": [
    "bench_KLs_DCT1 = copy.deepcopy(bench_KLs_DCT)\n",
    "bench_JSs_DCT1 = copy.deepcopy(bench_JSs_DCT)"
   ]
  },
  {
   "cell_type": "code",
   "execution_count": null,
   "id": "2a5843e3",
   "metadata": {},
   "outputs": [],
   "source": [
    "############################################## test\n",
    "for i in reversed(range(len(bench_KLs_DCT1))): \n",
    "    if np.isinf(bench_KLs_DCT1[i]):\n",
    "        bench_KLs_DCT1 = np.array(np.delete(bench_KLs_DCT1, i, axis=0)).tolist()\n",
    "for i in reversed(range(len(bench_JSs_DCT1))): \n",
    "    if np.isinf(bench_JSs_DCT1[i]):\n",
    "        bench_JSs_DCT1 = np.array(np.delete(bench_JSs_DCT1, i, axis=0)).tolist()            \n"
   ]
  },
  {
   "cell_type": "markdown",
   "id": "060dc722",
   "metadata": {},
   "source": [
    "Now corrupted images:"
   ]
  },
  {
   "cell_type": "code",
   "execution_count": null,
   "id": "11bc28c3",
   "metadata": {},
   "outputs": [],
   "source": [
    "KLs_DCT_levs1 = copy.deepcopy(KLs_DCT_levs)\n",
    "# KLs_GM_levs1 = copy.deepcopy(KLs_GM_levs)\n",
    "JSs_DCT_levs1 = copy.deepcopy(JSs_DCT_levs)"
   ]
  },
  {
   "cell_type": "code",
   "execution_count": null,
   "id": "2c8abd26",
   "metadata": {
    "scrolled": true
   },
   "outputs": [],
   "source": [
    "for lev in range(len(corruption_levels)):\n",
    "    for cl in range(len(KLs_DCT_levs1[lev])):\n",
    "        for i in reversed(range(len(KLs_DCT_levs1[lev][cl]))): \n",
    "            if np.isinf(KLs_DCT_levs1[lev][cl][i]):\n",
    "                KLs_DCT_levs1[lev][cl] = np.array(np.delete(KLs_DCT_levs1[lev][cl], i, axis=0)).tolist()\n",
    "#             if np.isinf(KLs_GM_levs1[lev][cl][i]):\n",
    "#                 KLs_GM_levs1[lev][cl] = np.array(np.delete(KLs_GM_levs1[lev][cl], i, axis=0)).tolist()\n",
    "#         for i in reversed(range(len(KLs_GM_levs1[lev][cl]))): \n",
    "#             if math.isnan(KLs_GM_levs1[lev][cl][i]):\n",
    "#                 KLs_GM_levs1[lev][cl] = np.array(np.delete(KLs_GM_levs1[lev][cl], i, axis=0)).tolist()\n",
    "        \n",
    "        for i in reversed(range(len(JSs_DCT_levs1[lev][cl]))): \n",
    "                if np.isinf(JSs_DCT_levs1[lev][cl][i]):\n",
    "                    JSs_DCT_levs1[lev][cl] = np.array(np.delete(JSs_DCT_levs1[lev][cl], i, axis=0)).tolist()            \n"
   ]
  },
  {
   "cell_type": "markdown",
   "id": "949b56d8",
   "metadata": {},
   "source": [
    "## Calculate means"
   ]
  },
  {
   "cell_type": "code",
   "execution_count": null,
   "id": "a9b85ab4",
   "metadata": {},
   "outputs": [],
   "source": [
    "#########################################################################"
   ]
  },
  {
   "cell_type": "code",
   "execution_count": null,
   "id": "9602dba2",
   "metadata": {},
   "outputs": [],
   "source": [
    "bench_KLs_DCT1_mean = np.mean(bench_KLs_DCT1)\n",
    "bench_JSs_DCT1_mean = np.mean(bench_JSs_DCT1)"
   ]
  },
  {
   "cell_type": "code",
   "execution_count": null,
   "id": "e25ddf72",
   "metadata": {},
   "outputs": [],
   "source": [
    "KLs_DCT_levs1_mean = []\n",
    "# KLs_GM_levs1_mean = []\n",
    "JSs_DCT_levs1_mean = []\n",
    "for lev in range(len(corruption_levels)):\n",
    "    temp_DCT_KL = []\n",
    "#     temp_GM = []\n",
    "    temp_DCT_JS = []\n",
    "    for cl in range(len(KLs_DCT_levs1[lev])):\n",
    "        temp_DCT_KL.append(np.mean(KLs_DCT_levs1[lev][cl]))\n",
    "#         temp_GM.append(np.mean(KLs_GM_levs1[lev][cl]))\n",
    "        temp_DCT_JS.append(np.mean(JSs_DCT_levs1[lev][cl]))\n",
    "    \n",
    "    KLs_DCT_levs1_mean.append(temp_DCT_KL)\n",
    "#     KLs_GM_levs1_mean.append(temp_GM)\n",
    "    JSs_DCT_levs1_mean.append(temp_DCT_JS)"
   ]
  },
  {
   "cell_type": "code",
   "execution_count": null,
   "id": "4bbc9ffa",
   "metadata": {
    "scrolled": false
   },
   "outputs": [],
   "source": [
    "# RW scatterplot\n",
    "plt.figure(figsize=(25, 5))\n",
    "for lev in range(len(corruption_levels)):\n",
    "    for class_id in range(5): # len(KLs_DCT)): KLs_DCT_levs\n",
    "        plt.subplot(1, 5, class_id+1)\n",
    "        plt.scatter(range(len(KLs_DCT_levs[lev][class_id])),KLs_DCT_levs[lev][class_id])"
   ]
  },
  {
   "cell_type": "markdown",
   "id": "93ce5d5e",
   "metadata": {},
   "source": [
    "# Plots of images, transformed images and FD distributions"
   ]
  },
  {
   "cell_type": "markdown",
   "id": "5ca29f62",
   "metadata": {},
   "source": [
    "Benford's Law\n",
    "\n",
    "$$ p(d) = log_{10}(1+\\frac{1}{d}), d = 1,2,...,9 $$"
   ]
  },
  {
   "cell_type": "code",
   "execution_count": null,
   "id": "667dab32",
   "metadata": {},
   "outputs": [],
   "source": [
    "plt.figure(figsize=(8,8))\n",
    "plt.bar(range(1,10), dist_benford_law, color='k')\n",
    "plt.xticks(range(1,10))\n",
    "plt.title(\"Benford's Law\", fontsize=15)\n",
    "plt.xlabel(\"First digit\", fontsize=12)\n",
    "plt.ylabel(\"Frequency\", fontsize=12)\n",
    "plt.show()"
   ]
  },
  {
   "cell_type": "code",
   "execution_count": null,
   "id": "2e5d2086",
   "metadata": {},
   "outputs": [],
   "source": [
    "plt.figure(figsize=(8,8))\n",
    "# plt.figure(figsize=(16,8))\n",
    "# plt.subplot(1,2,1)\n",
    "plt.bar(range(1,10), bench_dist, color='k')\n",
    "plt.xticks(range(1,10))\n",
    "plt.title(\"Empirical DCT\", fontsize=15)\n",
    "plt.xlabel(\"First digit\", fontsize=12)\n",
    "plt.ylabel(\"Frequency\", fontsize=12)\n",
    "# plt.subplot(1,2,2)\n",
    "# plt.bar(range(1,10), emp_GM, color='k')\n",
    "# plt.xticks(range(1,10))\n",
    "# plt.title(\"Empirical GM\", fontsize=15)\n",
    "# plt.xlabel(\"First digit\", fontsize=12)\n",
    "# plt.ylabel(\"Frequency\", fontsize=12)\n",
    "# plt.show()"
   ]
  },
  {
   "cell_type": "code",
   "execution_count": null,
   "id": "c579ec42",
   "metadata": {},
   "outputs": [],
   "source": [
    "m=5"
   ]
  },
  {
   "cell_type": "code",
   "execution_count": null,
   "id": "de0790f6",
   "metadata": {},
   "outputs": [],
   "source": [
    "ims = list()\n",
    "imgs = list()\n",
    "DCT_ims = list()\n",
    "GM_ims = list()\n",
    "FDs_DCT_display = []\n",
    "FDs_GM_display = []\n",
    "\n",
    "for class_id in range(m): \n",
    "    # first 5 classes\n",
    "    IMAGENET_CLASS = next(os.walk(f'{base_dir}{IMAGENET_C_data}/{category}/{subcategory}/{severity}.'))[1][class_id]\n",
    "    \n",
    "    # first file from each class\n",
    "    file = glob.glob(f'{base_dir}{IMAGENET_C_data}/{category}/{subcategory}/{severity}/{IMAGENET_CLASS}/*.jpeg')[0]\n",
    "    im = Image.open(file)\n",
    "    ims.append(im)\n",
    "    img = im.convert('L') # converting to greyscale\n",
    "    img = np.asarray(np.int8(img)) - 128 # centering around 0\n",
    "    imgs.append(img)\n",
    "\n",
    "    img = np.array(img).reshape(1,np.array(img).shape[0], np.array(img).shape[1],\n",
    "                                int(num_channels/gs)) # taking greyscale so 3/3 = 1 channel\n",
    "\n",
    "    # transforming using DCT or GM\n",
    "    DCT_ims.append(DCT(np.array(img)))\n",
    "    GM_ims.append(iterative_gradient(np.array(img),1))\n",
    "\n",
    "for im_i in range(len(DCT_ims)):\n",
    "    FDs_DCT_display.append(benford_law_images(DCT_ims[im_i].reshape(DCT_ims[im_i].shape[1]*DCT_ims[im_i].shape[2])))\n",
    "    FDs_GM_display.append(benford_law_images(GM_ims[im_i].reshape(GM_ims[im_i].shape[1]*GM_ims[im_i].shape[2])))\n"
   ]
  },
  {
   "cell_type": "code",
   "execution_count": null,
   "id": "27cf1d76",
   "metadata": {
    "scrolled": false
   },
   "outputs": [],
   "source": [
    "m = 5\n",
    "plt.figure(figsize=(25, 25))\n",
    "for i in range(m):\n",
    "    im = ims[i] \n",
    "    plt.subplot(5, m, i+1)\n",
    "    plt.imshow(im)\n",
    "    plt.subplot(5, m, i+1+5)\n",
    "    plt.imshow(DCT_ims[i].reshape(DCT_ims[i].shape[1],DCT_ims[i].shape[2],DCT_ims[i].shape[3]),cmap='gray',vmax = np.max(DCT_ims)*0.01,vmin = 0)\n",
    "    plt.subplot(5, m, i+1+10)\n",
    "    plt.bar(range(1,10), FDs_DCT_display[i][1:], color='k')\n",
    "    plt.subplot(5, m, i+1+15)\n",
    "    plt.imshow(GM_ims[i].reshape(DCT_ims[i].shape[1],DCT_ims[i].shape[2]),cmap='gray')\n",
    "    plt.subplot(5, m, i+1+20)\n",
    "    plt.bar(range(1,10), FDs_GM_display[i][1:])\n",
    "    plt.axis('off')"
   ]
  }
 ],
 "metadata": {
  "kernelspec": {
   "display_name": "Python 3 (ipykernel)",
   "language": "python",
   "name": "python3"
  },
  "language_info": {
   "codemirror_mode": {
    "name": "ipython",
    "version": 3
   },
   "file_extension": ".py",
   "mimetype": "text/x-python",
   "name": "python",
   "nbconvert_exporter": "python",
   "pygments_lexer": "ipython3",
   "version": "3.9.12"
  },
  "toc": {
   "base_numbering": 1,
   "nav_menu": {},
   "number_sections": true,
   "sideBar": true,
   "skip_h1_title": false,
   "title_cell": "Table of Contents",
   "title_sidebar": "Contents",
   "toc_cell": false,
   "toc_position": {
    "height": "calc(100% - 180px)",
    "left": "10px",
    "top": "150px",
    "width": "241.094px"
   },
   "toc_section_display": true,
   "toc_window_display": true
  },
  "varInspector": {
   "cols": {
    "lenName": 16,
    "lenType": 16,
    "lenVar": 40
   },
   "kernels_config": {
    "python": {
     "delete_cmd_postfix": "",
     "delete_cmd_prefix": "del ",
     "library": "var_list.py",
     "varRefreshCmd": "print(var_dic_list())"
    },
    "r": {
     "delete_cmd_postfix": ") ",
     "delete_cmd_prefix": "rm(",
     "library": "var_list.r",
     "varRefreshCmd": "cat(var_dic_list()) "
    }
   },
   "types_to_exclude": [
    "module",
    "function",
    "builtin_function_or_method",
    "instance",
    "_Feature"
   ],
   "window_display": false
  }
 },
 "nbformat": 4,
 "nbformat_minor": 5
}
